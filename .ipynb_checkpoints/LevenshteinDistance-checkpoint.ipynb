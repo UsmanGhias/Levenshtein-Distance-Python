{
 "cells": [
  {
   "cell_type": "markdown",
   "id": "536b89f2-e85c-46d7-ba8b-ee582bf6dd14",
   "metadata": {},
   "source": [
    "# <center> Levenshtein Distance for Word Autocompletion and Autocorrection"
   ]
  },
  {
   "cell_type": "markdown",
   "id": "783e2955-8ffb-4cfe-8373-19eb3c989134",
   "metadata": {},
   "source": [
    "#### We'll create a simple application with autocomplete and autocorrect features which use the Levenshtein distance to select the \"closest\" words in the dictionary."
   ]
  },
  {
   "cell_type": "markdown",
   "id": "5dd60cc4-80b6-417d-bc70-033527d778a9",
   "metadata": {},
   "source": [
    "## Creating the `distances` matrix"
   ]
  },
  {
   "cell_type": "code",
   "execution_count": null,
   "id": "829f51a4-7af0-476c-a3f7-a38378da4603",
   "metadata": {},
   "outputs": [],
   "source": [
    "import numpy"
   ]
  },
  {
   "cell_type": "markdown",
   "id": "090b4c86-e7f4-4157-b70e-ed5b15bf71ce",
   "metadata": {},
   "source": [
    "## Initializing The Distance Matrix"
   ]
  },
  {
   "cell_type": "code",
   "execution_count": null,
   "id": "7684975d-6b6a-4f31-bd7c-1bd23eac7059",
   "metadata": {},
   "outputs": [],
   "source": [
    "def levenshteinDistanceDP(token1, token2):\n",
    "    distances = numpy.zeros((len(token1) + 1, len(token2) + 1))\n",
    "\n",
    "    for t1 in range(len(token1) + 1):\n",
    "        distances[t1][0] = t1\n",
    "\n",
    "    for t2 in range(len(token2) + 1):\n",
    "        distances[0][t2] = t2\n",
    "        \n",
    "    printDistances(distances, len(token1), len(token2))\n",
    "    return 0"
   ]
  },
  {
   "cell_type": "markdown",
   "id": "ddd5e675-a99b-4e50-ad4f-038a572b75df",
   "metadata": {},
   "source": [
    "## Printing The Distance Matrix"
   ]
  },
  {
   "cell_type": "code",
   "execution_count": null,
   "id": "ead08f6b-c26b-4cd1-820b-464de35bf761",
   "metadata": {},
   "outputs": [],
   "source": [
    "\n",
    "def printDistances(distances, token1Length, token2Length):\n",
    "    for t1 in range(token1Length + 1):\n",
    "        for t2 in range(token2Length + 1):\n",
    "            print(int(distances[t1][t2]), end=\" \")\n",
    "        print()"
   ]
  },
  {
   "cell_type": "markdown",
   "id": "fc4c9180-5fd7-4d6b-b6e2-7d412ee9e53e",
   "metadata": {},
   "source": [
    "## Output"
   ]
  },
  {
   "cell_type": "code",
   "execution_count": null,
   "id": "24b98524-bf10-4e5c-8e7b-26d570a9caf6",
   "metadata": {},
   "outputs": [],
   "source": [
    "levenshteinDistanceDP(\"kelm\", \"hello\")"
   ]
  },
  {
   "cell_type": "code",
   "execution_count": null,
   "id": "1203b779-2bac-4fc2-a2fe-cda30716ddab",
   "metadata": {},
   "outputs": [],
   "source": []
  },
  {
   "cell_type": "markdown",
   "id": "058e8112-cb12-44ee-a1e4-20d125f02429",
   "metadata": {},
   "source": [
    "# Calculating Distances Between All Prefixes"
   ]
  },
  {
   "cell_type": "code",
   "execution_count": null,
   "id": "c882289f-f776-4048-9685-52bb07a2c2ee",
   "metadata": {},
   "outputs": [],
   "source": [
    "def levenshteinDistanceDP(token1, token2):\n",
    "    distances = numpy.zeros((len(token1) + 1, len(token2) + 1))\n",
    "\n",
    "    for t1 in range(len(token1) + 1):\n",
    "        distances[t1][0] = t1\n",
    "\n",
    "    for t2 in range(len(token2) + 1):\n",
    "        distances[0][t2] = t2\n",
    "        \n",
    "    a = 0\n",
    "    b = 0\n",
    "    c = 0"
   ]
  },
  {
   "cell_type": "code",
   "execution_count": null,
   "id": "265c30b1-6eb7-47e8-a4fd-a3938cf5eb82",
   "metadata": {},
   "outputs": [],
   "source": []
  },
  {
   "cell_type": "code",
   "execution_count": null,
   "id": "1c0ad320-f7bc-42ad-83fc-62963005288e",
   "metadata": {},
   "outputs": [],
   "source": [
    "for t1 in range(1, len(token1) + 1):\n",
    "        for t2 in range(1, len(token2) + 1):\n",
    "            if (token1[t1-1] == token2[t2-1]):\n",
    "                distances[t1][t2] = distances[t1 - 1][t2 - 1]\n",
    "            else:\n",
    "                a = distances[t1][t2 - 1]\n",
    "                b = distances[t1 - 1][t2]\n",
    "                c = distances[t1 - 1][t2 - 1]\n",
    "                \n",
    "                if (a <= b and a <= c):\n",
    "                    distances[t1][t2] = a + 1\n",
    "                elif (b <= a and b <= c):\n",
    "                    distances[t1][t2] = b + 1\n",
    "                else:\n",
    "                    distances[t1][t2] = c + 1"
   ]
  },
  {
   "cell_type": "markdown",
   "id": "b94d89fc-504d-45a3-8d2b-bd6c4ef824ee",
   "metadata": {},
   "source": [
    "### Output"
   ]
  },
  {
   "cell_type": "code",
   "execution_count": null,
   "id": "80ff7261-e0dc-4262-a941-d129498c43e3",
   "metadata": {},
   "outputs": [],
   "source": [
    "printDistances(distances, len(token1), len(token2))\n",
    "    return distances[len(token1)][len(token2)]"
   ]
  },
  {
   "cell_type": "code",
   "execution_count": null,
   "id": "eb1e9cc3-407b-4383-a2cc-0b926715b62b",
   "metadata": {},
   "outputs": [],
   "source": []
  },
  {
   "cell_type": "code",
   "execution_count": null,
   "id": "fdd35fd0-2431-4817-8643-043daa53da91",
   "metadata": {},
   "outputs": [],
   "source": [
    "def calcDictDistance(word, numWords):\n",
    "    file = open('1-1000.txt', 'r') \n",
    "    lines = file.readlines() \n",
    "    file.close()\n",
    "    dictWordDist = []\n",
    "    wordIdx = 0\n",
    "    \n",
    "    for line in lines: \n",
    "        wordDistance = levenshteinDistanceMatrix(word, line.strip())\n",
    "        if wordDistance >= 10:\n",
    "            wordDistance = 9\n",
    "        dictWordDist.append(str(int(wordDistance)) + \"-\" + line.strip())\n",
    "        wordIdx = wordIdx + 1\n",
    "\n",
    "    closestWords = []\n",
    "    wordDetails = []\n",
    "    currWordDist = 0\n",
    "    dictWordDist.sort()\n",
    "    print(dictWordDist)\n",
    "    for i in range(numWords):\n",
    "        currWordDist = dictWordDist[i]\n",
    "        wordDetails = currWordDist.split(\"-\")\n",
    "        closestWords.append(wordDetails[1])\n",
    "    return closestWords"
   ]
  },
  {
   "cell_type": "code",
   "execution_count": null,
   "id": "9446238e-3338-4e48-9f94-013acbe94ddd",
   "metadata": {},
   "outputs": [],
   "source": []
  },
  {
   "cell_type": "code",
   "execution_count": null,
   "id": "6b82b905-314d-4f82-a14d-bd49d2472ed9",
   "metadata": {},
   "outputs": [],
   "source": []
  },
  {
   "cell_type": "code",
   "execution_count": null,
   "id": "30242aa5-c4af-4d1d-851e-f0086cd6a8ca",
   "metadata": {},
   "outputs": [],
   "source": []
  },
  {
   "cell_type": "code",
   "execution_count": null,
   "id": "ec6c4911-56fc-4029-bdae-0f6d000c5a08",
   "metadata": {},
   "outputs": [],
   "source": []
  }
 ],
 "metadata": {
  "kernelspec": {
   "display_name": "Python 3 (ipykernel)",
   "language": "python",
   "name": "python3"
  },
  "language_info": {
   "codemirror_mode": {
    "name": "ipython",
    "version": 3
   },
   "file_extension": ".py",
   "mimetype": "text/x-python",
   "name": "python",
   "nbconvert_exporter": "python",
   "pygments_lexer": "ipython3",
   "version": "3.11.5"
  }
 },
 "nbformat": 4,
 "nbformat_minor": 5
}
